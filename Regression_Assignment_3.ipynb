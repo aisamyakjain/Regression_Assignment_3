{
 "cells": [
  {
   "cell_type": "markdown",
   "id": "6727b3ca-504c-4628-b904-50474439c344",
   "metadata": {},
   "source": [
    "Q1. What is Ridge Regression, and how does it differ from ordinary least squares regression?\n",
    "\n",
    "Answer:  Ridge Regression is a linear regression technique that adds a penalty term (L2 regularization) to the ordinary least squares regression. It helps to mitigate the problem of multicollinearity by shrinking the coefficients, leading to a more stable and less overfit model compared to ordinary least squares regression."
   ]
  },
  {
   "cell_type": "markdown",
   "id": "e358e012-b002-4fa7-aa3d-3536be134b02",
   "metadata": {},
   "source": [
    "Q2. What are the assumptions of Ridge Regression?\n",
    "\n",
    "Answer: The assumptions of Ridge Regression are similar to ordinary least squares regression, including linearity, independence of errors, homoscedasticity, and normality of errors."
   ]
  },
  {
   "cell_type": "markdown",
   "id": "8d32f3b2-1b22-4f29-8fb0-e8b298163588",
   "metadata": {},
   "source": [
    "Q3. How do you select the value of the tuning parameter (lambda) in Ridge Regression?\n",
    "\n",
    "Answer: The value of the tuning parameter (lambda) in Ridge Regression can be selected through techniques like cross-validation or grid search to find the value that minimizes the error or provides the best trade-off between bias and variance."
   ]
  },
  {
   "cell_type": "markdown",
   "id": "ebb4c0f6-9883-4ab8-86a9-706ecd20e508",
   "metadata": {},
   "source": [
    "Q4. Can Ridge Regression be used for feature selection? If yes,?\n",
    "\n",
    "Answer: Yes, Ridge Regression can be used for feature selection. It shrinks the coefficients towards zero, effectively reducing the impact of less important features and promoting sparsity in the model."
   ]
  },
  {
   "cell_type": "markdown",
   "id": "5f3ed83a-df49-4d7d-b1f6-68a0159bd29d",
   "metadata": {},
   "source": [
    "Q5. How does the Ridge Regression model perform in the presence of multicollinearity ?\n",
    "\n",
    "Answer: Ridge Regression performs well in the presence of multicollinearity by reducing the impact of correlated variables and providing more stable coefficient estimates compared to ordinary least squares regression."
   ]
  },
  {
   "cell_type": "markdown",
   "id": "4515cf23-6c24-4b1d-9319-4c08c4b9a031",
   "metadata": {},
   "source": [
    "Q6. Can Ridge Regression handle both categorical and continuous independent variables?\n",
    "\n",
    "Answer: Yes, Ridge Regression can handle both categorical and continuous independent variables by appropriately encoding the categorical variables into numerical representations (e.g., one-hot encoding) before fitting the model."
   ]
  },
  {
   "cell_type": "markdown",
   "id": "7c3ff428-6a68-41e8-86af-40c6ab836ff3",
   "metadata": {},
   "source": [
    "Q7. How do you interpret the coefficients of Ridge Regression?\n",
    "\n",
    "Answer:  The coefficients of Ridge Regression represent the impact of the corresponding independent variables on the dependent variable, considering the regularization effect. A larger magnitude indicates a stronger influence."
   ]
  },
  {
   "cell_type": "markdown",
   "id": "20b4debb-3571-4635-9df2-e13079fd0aed",
   "metadata": {},
   "source": [
    "Q8. Can Ridge Regression be used for time-series data analysis? If yes, how?\n",
    "\n",
    "Anwer: Yes, Ridge Regression can be used for time-series data analysis. It considers the temporal ordering of the data by incorporating lagged variables or time-related features in the regression model."
   ]
  },
  {
   "cell_type": "code",
   "execution_count": null,
   "id": "c146e6f6-af54-441d-8a68-479df1e492b7",
   "metadata": {},
   "outputs": [],
   "source": []
  }
 ],
 "metadata": {
  "kernelspec": {
   "display_name": "Python 3 (ipykernel)",
   "language": "python",
   "name": "python3"
  },
  "language_info": {
   "codemirror_mode": {
    "name": "ipython",
    "version": 3
   },
   "file_extension": ".py",
   "mimetype": "text/x-python",
   "name": "python",
   "nbconvert_exporter": "python",
   "pygments_lexer": "ipython3",
   "version": "3.10.8"
  }
 },
 "nbformat": 4,
 "nbformat_minor": 5
}
